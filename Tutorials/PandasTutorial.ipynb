{
 "cells": [
  {
   "cell_type": "markdown",
   "metadata": {},
   "source": [
    "---\n",
    "### Pandas Tutorial\n",
    "---"
   ]
  },
  {
   "cell_type": "markdown",
   "metadata": {},
   "source": [
    "Pandas is a super-useful framework within Python to work with structured data. A lot of people think of it as Excel with superpowers.\n",
    "\n",
    "In this tutorial we will be using with Titanic dataset: \n",
    "\n",
    "| Column Name   | Description                                     |\n",
    "|---------------|-------------------------------------------------|\n",
    "| PassengerId   | Passenger Id                                    |\n",
    "| Survived      | Survival (0 = No; 1 = Yes)                      |\n",
    "| Pclass        | Passenger Class (1 = 1st; 2 = 2nd; 3 = 3rd)     |\n",
    "| Name          | Name                                            |\n",
    "| Sex           | Sex                                             |\n",
    "| Age           | Age                                             |\n",
    "| SibSp         | Number of Siblings/Spouses Aboard               |\n",
    "| Parch         | Number of Parents/Children Aboard               |\n",
    "| Ticket        | Ticket Number                                   |\n",
    "| Fare          | Passenger Fare                                  |\n",
    "| Cabin         | Cabin                                           |\n",
    "| Embarked      | Port of Embarkation (C = Cherbourg; Q = Queenstown; S = Southampton) |\n",
    "\n",
    "\n",
    "let's get started.\n",
    "\n"
   ]
  },
  {
   "cell_type": "markdown",
   "metadata": {},
   "source": [
    "---\n",
    "### Installing Pandas\n",
    "---\n",
    "\n",
    "First, you need to install Pandas if you haven't already. You can install it using pip:"
   ]
  },
  {
   "cell_type": "code",
   "execution_count": null,
   "metadata": {},
   "outputs": [],
   "source": [
    "# If Pandas is not installed, uncomment and run the line below:\n",
    "# !pip install pandas"
   ]
  },
  {
   "cell_type": "markdown",
   "metadata": {},
   "source": [
    "---\n",
    "### Importing Pandas and Loading the Dataset\n",
    "---\n",
    "\n",
    "Let's start by importing Pandas and loading the [Titanic](https://data.world/nrippner/titanic-disaster-dataset) dataset, which is available through the seaborn library:"
   ]
  },
  {
   "cell_type": "code",
   "execution_count": null,
   "metadata": {},
   "outputs": [],
   "source": [
    "import pandas as pd\n",
    "\n",
    "# Load Titanic dataset directly from a CSV file available online\n",
    "url = \"https://raw.githubusercontent.com/datasciencedojo/datasets/master/titanic.csv\"\n",
    "titanic = pd.read_csv(url)"
   ]
  },
  {
   "cell_type": "markdown",
   "metadata": {},
   "source": [
    "---\n",
    "### Exploring the Dataset\n",
    "---\n",
    "After loading the dataset, it's important to explore it to understand its structure and contents.\n",
    "\n"
   ]
  },
  {
   "cell_type": "markdown",
   "metadata": {},
   "source": [
    "- **View the data shape**\n",
    "\n",
    "The `.shape` command lets us check the shape of the data frame.\n"
   ]
  },
  {
   "cell_type": "code",
   "execution_count": null,
   "metadata": {},
   "outputs": [
    {
     "data": {
      "text/plain": [
       "(891, 12)"
      ]
     },
     "metadata": {},
     "output_type": "display_data"
    }
   ],
   "source": [
    "titanic.shape\n"
   ]
  },
  {
   "cell_type": "markdown",
   "metadata": {},
   "source": [
    "- **View the data columns**\n",
    "\n",
    "The `.columns()` command lets us see which columns are in the DataFrame."
   ]
  },
  {
   "cell_type": "code",
   "execution_count": null,
   "metadata": {},
   "outputs": [
    {
     "data": {
      "text/plain": [
       "Index(['PassengerId', 'Survived', 'Pclass', 'Name', 'Sex', 'Age', 'SibSp',\n",
       "       'Parch', 'Ticket', 'Fare', 'Cabin', 'Embarked'],\n",
       "      dtype='object')"
      ]
     },
     "metadata": {},
     "output_type": "display_data"
    }
   ],
   "source": [
    "titanic.columns"
   ]
  },
  {
   "cell_type": "markdown",
   "metadata": {},
   "source": [
    "- **View the first few rows**\n",
    "\n",
    "Using the `.head(n)` we can see the first `n` lines of the data frame. \n",
    "This can help a lot when trying to figure out what entries exist in a given data set.\n"
   ]
  },
  {
   "cell_type": "code",
   "execution_count": null,
   "metadata": {},
   "outputs": [
    {
     "data": {
      "text/html": [
       "<div>\n",
       "<style scoped>\n",
       "    .dataframe tbody tr th:only-of-type {\n",
       "        vertical-align: middle;\n",
       "    }\n",
       "\n",
       "    .dataframe tbody tr th {\n",
       "        vertical-align: top;\n",
       "    }\n",
       "\n",
       "    .dataframe thead th {\n",
       "        text-align: right;\n",
       "    }\n",
       "</style>\n",
       "<table border=\"1\" class=\"dataframe\">\n",
       "  <thead>\n",
       "    <tr style=\"text-align: right;\">\n",
       "      <th></th>\n",
       "      <th>PassengerId</th>\n",
       "      <th>Survived</th>\n",
       "      <th>Pclass</th>\n",
       "      <th>Name</th>\n",
       "      <th>Sex</th>\n",
       "      <th>Age</th>\n",
       "      <th>SibSp</th>\n",
       "      <th>Parch</th>\n",
       "      <th>Ticket</th>\n",
       "      <th>Fare</th>\n",
       "      <th>Cabin</th>\n",
       "      <th>Embarked</th>\n",
       "    </tr>\n",
       "  </thead>\n",
       "  <tbody>\n",
       "    <tr>\n",
       "      <th>0</th>\n",
       "      <td>1</td>\n",
       "      <td>0</td>\n",
       "      <td>3</td>\n",
       "      <td>Braund, Mr. Owen Harris</td>\n",
       "      <td>male</td>\n",
       "      <td>22.0</td>\n",
       "      <td>1</td>\n",
       "      <td>0</td>\n",
       "      <td>A/5 21171</td>\n",
       "      <td>7.2500</td>\n",
       "      <td>NaN</td>\n",
       "      <td>S</td>\n",
       "    </tr>\n",
       "    <tr>\n",
       "      <th>1</th>\n",
       "      <td>2</td>\n",
       "      <td>1</td>\n",
       "      <td>1</td>\n",
       "      <td>Cumings, Mrs. John Bradley (Florence Briggs Th...</td>\n",
       "      <td>female</td>\n",
       "      <td>38.0</td>\n",
       "      <td>1</td>\n",
       "      <td>0</td>\n",
       "      <td>PC 17599</td>\n",
       "      <td>71.2833</td>\n",
       "      <td>C85</td>\n",
       "      <td>C</td>\n",
       "    </tr>\n",
       "    <tr>\n",
       "      <th>2</th>\n",
       "      <td>3</td>\n",
       "      <td>1</td>\n",
       "      <td>3</td>\n",
       "      <td>Heikkinen, Miss. Laina</td>\n",
       "      <td>female</td>\n",
       "      <td>26.0</td>\n",
       "      <td>0</td>\n",
       "      <td>0</td>\n",
       "      <td>STON/O2. 3101282</td>\n",
       "      <td>7.9250</td>\n",
       "      <td>NaN</td>\n",
       "      <td>S</td>\n",
       "    </tr>\n",
       "    <tr>\n",
       "      <th>3</th>\n",
       "      <td>4</td>\n",
       "      <td>1</td>\n",
       "      <td>1</td>\n",
       "      <td>Futrelle, Mrs. Jacques Heath (Lily May Peel)</td>\n",
       "      <td>female</td>\n",
       "      <td>35.0</td>\n",
       "      <td>1</td>\n",
       "      <td>0</td>\n",
       "      <td>113803</td>\n",
       "      <td>53.1000</td>\n",
       "      <td>C123</td>\n",
       "      <td>S</td>\n",
       "    </tr>\n",
       "  </tbody>\n",
       "</table>\n",
       "</div>"
      ],
      "text/plain": [
       "   PassengerId  Survived  Pclass  \\\n",
       "0            1         0       3   \n",
       "1            2         1       1   \n",
       "2            3         1       3   \n",
       "3            4         1       1   \n",
       "\n",
       "                                                Name     Sex   Age  SibSp  \\\n",
       "0                            Braund, Mr. Owen Harris    male  22.0      1   \n",
       "1  Cumings, Mrs. John Bradley (Florence Briggs Th...  female  38.0      1   \n",
       "2                             Heikkinen, Miss. Laina  female  26.0      0   \n",
       "3       Futrelle, Mrs. Jacques Heath (Lily May Peel)  female  35.0      1   \n",
       "\n",
       "   Parch            Ticket     Fare Cabin Embarked  \n",
       "0      0         A/5 21171   7.2500   NaN        S  \n",
       "1      0          PC 17599  71.2833   C85        C  \n",
       "2      0  STON/O2. 3101282   7.9250   NaN        S  \n",
       "3      0            113803  53.1000  C123        S  "
      ]
     },
     "metadata": {},
     "output_type": "display_data"
    }
   ],
   "source": [
    "titanic.head(4)"
   ]
  },
  {
   "cell_type": "markdown",
   "metadata": {},
   "source": [
    "- **Check the structure and data types:**\n",
    "\n",
    "`.info()` command provides information about the dataset, including the number of non-null entries and data types of each column."
   ]
  },
  {
   "cell_type": "code",
   "execution_count": null,
   "metadata": {},
   "outputs": [
    {
     "name": "stdout",
     "output_type": "stream",
     "text": [
      "<class 'pandas.core.frame.DataFrame'>\n",
      "RangeIndex: 891 entries, 0 to 890\n",
      "Data columns (total 12 columns):\n",
      " #   Column       Non-Null Count  Dtype  \n",
      "---  ------       --------------  -----  \n",
      " 0   PassengerId  891 non-null    int64  \n",
      " 1   Survived     891 non-null    int64  \n",
      " 2   Pclass       891 non-null    int64  \n",
      " 3   Name         891 non-null    object \n",
      " 4   Sex          891 non-null    object \n",
      " 5   Age          714 non-null    float64\n",
      " 6   SibSp        891 non-null    int64  \n",
      " 7   Parch        891 non-null    int64  \n",
      " 8   Ticket       891 non-null    object \n",
      " 9   Fare         891 non-null    float64\n",
      " 10  Cabin        204 non-null    object \n",
      " 11  Embarked     889 non-null    object \n",
      "dtypes: float64(2), int64(5), object(5)\n",
      "memory usage: 83.7+ KB\n"
     ]
    }
   ],
   "source": [
    "titanic.info()"
   ]
  },
  {
   "cell_type": "markdown",
   "metadata": {},
   "source": [
    "- **Get summary statistics:**\n",
    "\n",
    "`.describe()` provides summary statistics of numerical columns (like mean, standard deviation, min, max)"
   ]
  },
  {
   "cell_type": "code",
   "execution_count": null,
   "metadata": {},
   "outputs": [
    {
     "data": {
      "text/html": [
       "<div>\n",
       "<style scoped>\n",
       "    .dataframe tbody tr th:only-of-type {\n",
       "        vertical-align: middle;\n",
       "    }\n",
       "\n",
       "    .dataframe tbody tr th {\n",
       "        vertical-align: top;\n",
       "    }\n",
       "\n",
       "    .dataframe thead th {\n",
       "        text-align: right;\n",
       "    }\n",
       "</style>\n",
       "<table border=\"1\" class=\"dataframe\">\n",
       "  <thead>\n",
       "    <tr style=\"text-align: right;\">\n",
       "      <th></th>\n",
       "      <th>PassengerId</th>\n",
       "      <th>Survived</th>\n",
       "      <th>Pclass</th>\n",
       "      <th>Age</th>\n",
       "      <th>SibSp</th>\n",
       "      <th>Parch</th>\n",
       "      <th>Fare</th>\n",
       "    </tr>\n",
       "  </thead>\n",
       "  <tbody>\n",
       "    <tr>\n",
       "      <th>count</th>\n",
       "      <td>891.000000</td>\n",
       "      <td>891.000000</td>\n",
       "      <td>891.000000</td>\n",
       "      <td>714.000000</td>\n",
       "      <td>891.000000</td>\n",
       "      <td>891.000000</td>\n",
       "      <td>891.000000</td>\n",
       "    </tr>\n",
       "    <tr>\n",
       "      <th>mean</th>\n",
       "      <td>446.000000</td>\n",
       "      <td>0.383838</td>\n",
       "      <td>2.308642</td>\n",
       "      <td>29.699118</td>\n",
       "      <td>0.523008</td>\n",
       "      <td>0.381594</td>\n",
       "      <td>32.204208</td>\n",
       "    </tr>\n",
       "    <tr>\n",
       "      <th>std</th>\n",
       "      <td>257.353842</td>\n",
       "      <td>0.486592</td>\n",
       "      <td>0.836071</td>\n",
       "      <td>14.526497</td>\n",
       "      <td>1.102743</td>\n",
       "      <td>0.806057</td>\n",
       "      <td>49.693429</td>\n",
       "    </tr>\n",
       "    <tr>\n",
       "      <th>min</th>\n",
       "      <td>1.000000</td>\n",
       "      <td>0.000000</td>\n",
       "      <td>1.000000</td>\n",
       "      <td>0.420000</td>\n",
       "      <td>0.000000</td>\n",
       "      <td>0.000000</td>\n",
       "      <td>0.000000</td>\n",
       "    </tr>\n",
       "    <tr>\n",
       "      <th>25%</th>\n",
       "      <td>223.500000</td>\n",
       "      <td>0.000000</td>\n",
       "      <td>2.000000</td>\n",
       "      <td>20.125000</td>\n",
       "      <td>0.000000</td>\n",
       "      <td>0.000000</td>\n",
       "      <td>7.910400</td>\n",
       "    </tr>\n",
       "    <tr>\n",
       "      <th>50%</th>\n",
       "      <td>446.000000</td>\n",
       "      <td>0.000000</td>\n",
       "      <td>3.000000</td>\n",
       "      <td>28.000000</td>\n",
       "      <td>0.000000</td>\n",
       "      <td>0.000000</td>\n",
       "      <td>14.454200</td>\n",
       "    </tr>\n",
       "    <tr>\n",
       "      <th>75%</th>\n",
       "      <td>668.500000</td>\n",
       "      <td>1.000000</td>\n",
       "      <td>3.000000</td>\n",
       "      <td>38.000000</td>\n",
       "      <td>1.000000</td>\n",
       "      <td>0.000000</td>\n",
       "      <td>31.000000</td>\n",
       "    </tr>\n",
       "    <tr>\n",
       "      <th>max</th>\n",
       "      <td>891.000000</td>\n",
       "      <td>1.000000</td>\n",
       "      <td>3.000000</td>\n",
       "      <td>80.000000</td>\n",
       "      <td>8.000000</td>\n",
       "      <td>6.000000</td>\n",
       "      <td>512.329200</td>\n",
       "    </tr>\n",
       "  </tbody>\n",
       "</table>\n",
       "</div>"
      ],
      "text/plain": [
       "       PassengerId    Survived      Pclass         Age       SibSp  \\\n",
       "count   891.000000  891.000000  891.000000  714.000000  891.000000   \n",
       "mean    446.000000    0.383838    2.308642   29.699118    0.523008   \n",
       "std     257.353842    0.486592    0.836071   14.526497    1.102743   \n",
       "min       1.000000    0.000000    1.000000    0.420000    0.000000   \n",
       "25%     223.500000    0.000000    2.000000   20.125000    0.000000   \n",
       "50%     446.000000    0.000000    3.000000   28.000000    0.000000   \n",
       "75%     668.500000    1.000000    3.000000   38.000000    1.000000   \n",
       "max     891.000000    1.000000    3.000000   80.000000    8.000000   \n",
       "\n",
       "            Parch        Fare  \n",
       "count  891.000000  891.000000  \n",
       "mean     0.381594   32.204208  \n",
       "std      0.806057   49.693429  \n",
       "min      0.000000    0.000000  \n",
       "25%      0.000000    7.910400  \n",
       "50%      0.000000   14.454200  \n",
       "75%      0.000000   31.000000  \n",
       "max      6.000000  512.329200  "
      ]
     },
     "metadata": {},
     "output_type": "display_data"
    }
   ],
   "source": [
    "titanic.describe()"
   ]
  },
  {
   "cell_type": "markdown",
   "metadata": {},
   "source": [
    "- **Simple statistics with pandas**\n",
    "\n",
    "We can also do a colum wise statistics using \n",
    "- `.mean()`\n",
    "- `.std()`\n",
    "- `.var()`\n",
    "- `.min()`\n",
    "- `.max()`\n",
    "\n",
    "For example `titanic['Age'].mean()`. Try it yourself!"
   ]
  },
  {
   "cell_type": "markdown",
   "metadata": {},
   "source": [
    "---\n",
    "### Basic DataFrame Operations\n",
    "---\n",
    "Here are some common operations you can perform on a DataFrame:"
   ]
  },
  {
   "cell_type": "markdown",
   "metadata": {},
   "source": [
    "- **Selecting columns:**"
   ]
  },
  {
   "cell_type": "code",
   "execution_count": null,
   "metadata": {},
   "outputs": [
    {
     "data": {
      "text/plain": [
       "0      22.0\n",
       "1      38.0\n",
       "2      26.0\n",
       "3      35.0\n",
       "4      35.0\n",
       "       ... \n",
       "886    27.0\n",
       "887    19.0\n",
       "888     NaN\n",
       "889    26.0\n",
       "890    32.0\n",
       "Name: Age, Length: 891, dtype: float64"
      ]
     },
     "metadata": {},
     "output_type": "display_data"
    }
   ],
   "source": [
    "# Select a single column\n",
    "titanic['Age']"
   ]
  },
  {
   "cell_type": "code",
   "execution_count": null,
   "metadata": {},
   "outputs": [
    {
     "data": {
      "text/html": [
       "<div>\n",
       "<style scoped>\n",
       "    .dataframe tbody tr th:only-of-type {\n",
       "        vertical-align: middle;\n",
       "    }\n",
       "\n",
       "    .dataframe tbody tr th {\n",
       "        vertical-align: top;\n",
       "    }\n",
       "\n",
       "    .dataframe thead th {\n",
       "        text-align: right;\n",
       "    }\n",
       "</style>\n",
       "<table border=\"1\" class=\"dataframe\">\n",
       "  <thead>\n",
       "    <tr style=\"text-align: right;\">\n",
       "      <th></th>\n",
       "      <th>Age</th>\n",
       "      <th>Fare</th>\n",
       "    </tr>\n",
       "  </thead>\n",
       "  <tbody>\n",
       "    <tr>\n",
       "      <th>0</th>\n",
       "      <td>22.0</td>\n",
       "      <td>7.2500</td>\n",
       "    </tr>\n",
       "    <tr>\n",
       "      <th>1</th>\n",
       "      <td>38.0</td>\n",
       "      <td>71.2833</td>\n",
       "    </tr>\n",
       "    <tr>\n",
       "      <th>2</th>\n",
       "      <td>26.0</td>\n",
       "      <td>7.9250</td>\n",
       "    </tr>\n",
       "    <tr>\n",
       "      <th>3</th>\n",
       "      <td>35.0</td>\n",
       "      <td>53.1000</td>\n",
       "    </tr>\n",
       "    <tr>\n",
       "      <th>4</th>\n",
       "      <td>35.0</td>\n",
       "      <td>8.0500</td>\n",
       "    </tr>\n",
       "    <tr>\n",
       "      <th>...</th>\n",
       "      <td>...</td>\n",
       "      <td>...</td>\n",
       "    </tr>\n",
       "    <tr>\n",
       "      <th>886</th>\n",
       "      <td>27.0</td>\n",
       "      <td>13.0000</td>\n",
       "    </tr>\n",
       "    <tr>\n",
       "      <th>887</th>\n",
       "      <td>19.0</td>\n",
       "      <td>30.0000</td>\n",
       "    </tr>\n",
       "    <tr>\n",
       "      <th>888</th>\n",
       "      <td>NaN</td>\n",
       "      <td>23.4500</td>\n",
       "    </tr>\n",
       "    <tr>\n",
       "      <th>889</th>\n",
       "      <td>26.0</td>\n",
       "      <td>30.0000</td>\n",
       "    </tr>\n",
       "    <tr>\n",
       "      <th>890</th>\n",
       "      <td>32.0</td>\n",
       "      <td>7.7500</td>\n",
       "    </tr>\n",
       "  </tbody>\n",
       "</table>\n",
       "<p>891 rows × 2 columns</p>\n",
       "</div>"
      ],
      "text/plain": [
       "      Age     Fare\n",
       "0    22.0   7.2500\n",
       "1    38.0  71.2833\n",
       "2    26.0   7.9250\n",
       "3    35.0  53.1000\n",
       "4    35.0   8.0500\n",
       "..    ...      ...\n",
       "886  27.0  13.0000\n",
       "887  19.0  30.0000\n",
       "888   NaN  23.4500\n",
       "889  26.0  30.0000\n",
       "890  32.0   7.7500\n",
       "\n",
       "[891 rows x 2 columns]"
      ]
     },
     "metadata": {},
     "output_type": "display_data"
    }
   ],
   "source": [
    "# Select multiple columns\n",
    "titanic[['Age', 'Fare']]"
   ]
  },
  {
   "cell_type": "markdown",
   "metadata": {},
   "source": [
    "- **Selection row by position**"
   ]
  },
  {
   "cell_type": "code",
   "execution_count": null,
   "metadata": {},
   "outputs": [
    {
     "data": {
      "text/html": [
       "<div>\n",
       "<style scoped>\n",
       "    .dataframe tbody tr th:only-of-type {\n",
       "        vertical-align: middle;\n",
       "    }\n",
       "\n",
       "    .dataframe tbody tr th {\n",
       "        vertical-align: top;\n",
       "    }\n",
       "\n",
       "    .dataframe thead th {\n",
       "        text-align: right;\n",
       "    }\n",
       "</style>\n",
       "<table border=\"1\" class=\"dataframe\">\n",
       "  <thead>\n",
       "    <tr style=\"text-align: right;\">\n",
       "      <th></th>\n",
       "      <th>Age</th>\n",
       "      <th>Fare</th>\n",
       "    </tr>\n",
       "  </thead>\n",
       "  <tbody>\n",
       "    <tr>\n",
       "      <th>10</th>\n",
       "      <td>4.0</td>\n",
       "      <td>16.7000</td>\n",
       "    </tr>\n",
       "    <tr>\n",
       "      <th>11</th>\n",
       "      <td>58.0</td>\n",
       "      <td>26.5500</td>\n",
       "    </tr>\n",
       "    <tr>\n",
       "      <th>12</th>\n",
       "      <td>20.0</td>\n",
       "      <td>8.0500</td>\n",
       "    </tr>\n",
       "    <tr>\n",
       "      <th>13</th>\n",
       "      <td>39.0</td>\n",
       "      <td>31.2750</td>\n",
       "    </tr>\n",
       "    <tr>\n",
       "      <th>14</th>\n",
       "      <td>14.0</td>\n",
       "      <td>7.8542</td>\n",
       "    </tr>\n",
       "  </tbody>\n",
       "</table>\n",
       "</div>"
      ],
      "text/plain": [
       "     Age     Fare\n",
       "10   4.0  16.7000\n",
       "11  58.0  26.5500\n",
       "12  20.0   8.0500\n",
       "13  39.0  31.2750\n",
       "14  14.0   7.8542"
      ]
     },
     "metadata": {},
     "output_type": "display_data"
    }
   ],
   "source": [
    "# Select rows from index 10 to 15 (15 not included)\n",
    "titanic[['Age', 'Fare']][10:15]"
   ]
  },
  {
   "cell_type": "markdown",
   "metadata": {},
   "source": [
    "- **Filtering rows:**"
   ]
  },
  {
   "cell_type": "code",
   "execution_count": null,
   "metadata": {},
   "outputs": [
    {
     "data": {
      "text/html": [
       "<div>\n",
       "<style scoped>\n",
       "    .dataframe tbody tr th:only-of-type {\n",
       "        vertical-align: middle;\n",
       "    }\n",
       "\n",
       "    .dataframe tbody tr th {\n",
       "        vertical-align: top;\n",
       "    }\n",
       "\n",
       "    .dataframe thead th {\n",
       "        text-align: right;\n",
       "    }\n",
       "</style>\n",
       "<table border=\"1\" class=\"dataframe\">\n",
       "  <thead>\n",
       "    <tr style=\"text-align: right;\">\n",
       "      <th></th>\n",
       "      <th>PassengerId</th>\n",
       "      <th>Survived</th>\n",
       "      <th>Pclass</th>\n",
       "      <th>Name</th>\n",
       "      <th>Sex</th>\n",
       "      <th>Age</th>\n",
       "      <th>SibSp</th>\n",
       "      <th>Parch</th>\n",
       "      <th>Ticket</th>\n",
       "      <th>Fare</th>\n",
       "      <th>Cabin</th>\n",
       "      <th>Embarked</th>\n",
       "    </tr>\n",
       "  </thead>\n",
       "  <tbody>\n",
       "    <tr>\n",
       "      <th>1</th>\n",
       "      <td>2</td>\n",
       "      <td>1</td>\n",
       "      <td>1</td>\n",
       "      <td>Cumings, Mrs. John Bradley (Florence Briggs Th...</td>\n",
       "      <td>female</td>\n",
       "      <td>38.0</td>\n",
       "      <td>1</td>\n",
       "      <td>0</td>\n",
       "      <td>PC 17599</td>\n",
       "      <td>71.2833</td>\n",
       "      <td>C85</td>\n",
       "      <td>C</td>\n",
       "    </tr>\n",
       "    <tr>\n",
       "      <th>3</th>\n",
       "      <td>4</td>\n",
       "      <td>1</td>\n",
       "      <td>1</td>\n",
       "      <td>Futrelle, Mrs. Jacques Heath (Lily May Peel)</td>\n",
       "      <td>female</td>\n",
       "      <td>35.0</td>\n",
       "      <td>1</td>\n",
       "      <td>0</td>\n",
       "      <td>113803</td>\n",
       "      <td>53.1000</td>\n",
       "      <td>C123</td>\n",
       "      <td>S</td>\n",
       "    </tr>\n",
       "    <tr>\n",
       "      <th>4</th>\n",
       "      <td>5</td>\n",
       "      <td>0</td>\n",
       "      <td>3</td>\n",
       "      <td>Allen, Mr. William Henry</td>\n",
       "      <td>male</td>\n",
       "      <td>35.0</td>\n",
       "      <td>0</td>\n",
       "      <td>0</td>\n",
       "      <td>373450</td>\n",
       "      <td>8.0500</td>\n",
       "      <td>NaN</td>\n",
       "      <td>S</td>\n",
       "    </tr>\n",
       "    <tr>\n",
       "      <th>6</th>\n",
       "      <td>7</td>\n",
       "      <td>0</td>\n",
       "      <td>1</td>\n",
       "      <td>McCarthy, Mr. Timothy J</td>\n",
       "      <td>male</td>\n",
       "      <td>54.0</td>\n",
       "      <td>0</td>\n",
       "      <td>0</td>\n",
       "      <td>17463</td>\n",
       "      <td>51.8625</td>\n",
       "      <td>E46</td>\n",
       "      <td>S</td>\n",
       "    </tr>\n",
       "    <tr>\n",
       "      <th>11</th>\n",
       "      <td>12</td>\n",
       "      <td>1</td>\n",
       "      <td>1</td>\n",
       "      <td>Bonnell, Miss. Elizabeth</td>\n",
       "      <td>female</td>\n",
       "      <td>58.0</td>\n",
       "      <td>0</td>\n",
       "      <td>0</td>\n",
       "      <td>113783</td>\n",
       "      <td>26.5500</td>\n",
       "      <td>C103</td>\n",
       "      <td>S</td>\n",
       "    </tr>\n",
       "  </tbody>\n",
       "</table>\n",
       "</div>"
      ],
      "text/plain": [
       "    PassengerId  Survived  Pclass  \\\n",
       "1             2         1       1   \n",
       "3             4         1       1   \n",
       "4             5         0       3   \n",
       "6             7         0       1   \n",
       "11           12         1       1   \n",
       "\n",
       "                                                 Name     Sex   Age  SibSp  \\\n",
       "1   Cumings, Mrs. John Bradley (Florence Briggs Th...  female  38.0      1   \n",
       "3        Futrelle, Mrs. Jacques Heath (Lily May Peel)  female  35.0      1   \n",
       "4                            Allen, Mr. William Henry    male  35.0      0   \n",
       "6                             McCarthy, Mr. Timothy J    male  54.0      0   \n",
       "11                           Bonnell, Miss. Elizabeth  female  58.0      0   \n",
       "\n",
       "    Parch    Ticket     Fare Cabin Embarked  \n",
       "1       0  PC 17599  71.2833   C85        C  \n",
       "3       0    113803  53.1000  C123        S  \n",
       "4       0    373450   8.0500   NaN        S  \n",
       "6       0     17463  51.8625   E46        S  \n",
       "11      0    113783  26.5500  C103        S  "
      ]
     },
     "metadata": {},
     "output_type": "display_data"
    }
   ],
   "source": [
    "# Filter passengers older than 30\n",
    "older_passengers = titanic[titanic['Age'] > 30]\n",
    "\n",
    "older_passengers.head()"
   ]
  },
  {
   "cell_type": "markdown",
   "metadata": {},
   "source": [
    "- **Handling missing values:**"
   ]
  },
  {
   "cell_type": "code",
   "execution_count": null,
   "metadata": {},
   "outputs": [
    {
     "data": {
      "text/plain": [
       "PassengerId      0\n",
       "Survived         0\n",
       "Pclass           0\n",
       "Name             0\n",
       "Sex              0\n",
       "Age            177\n",
       "SibSp            0\n",
       "Parch            0\n",
       "Ticket           0\n",
       "Fare             0\n",
       "Cabin          687\n",
       "Embarked         2\n",
       "dtype: int64"
      ]
     },
     "metadata": {},
     "output_type": "display_data"
    }
   ],
   "source": [
    "# Check for missing values\n",
    "titanic.isna().sum()"
   ]
  },
  {
   "cell_type": "code",
   "execution_count": null,
   "metadata": {},
   "outputs": [
    {
     "name": "stdout",
     "output_type": "stream",
     "text": [
      "<class 'pandas.core.frame.DataFrame'>\n",
      "Int64Index: 183 entries, 1 to 889\n",
      "Data columns (total 12 columns):\n",
      " #   Column       Non-Null Count  Dtype  \n",
      "---  ------       --------------  -----  \n",
      " 0   PassengerId  183 non-null    int64  \n",
      " 1   Survived     183 non-null    int64  \n",
      " 2   Pclass       183 non-null    int64  \n",
      " 3   Name         183 non-null    object \n",
      " 4   Sex          183 non-null    object \n",
      " 5   Age          183 non-null    float64\n",
      " 6   SibSp        183 non-null    int64  \n",
      " 7   Parch        183 non-null    int64  \n",
      " 8   Ticket       183 non-null    object \n",
      " 9   Fare         183 non-null    float64\n",
      " 10  Cabin        183 non-null    object \n",
      " 11  Embarked     183 non-null    object \n",
      "dtypes: float64(2), int64(5), object(5)\n",
      "memory usage: 18.6+ KB\n"
     ]
    }
   ],
   "source": [
    "# Drop rows with missing values\n",
    "titanic_cleaned = titanic.dropna()\n",
    "titanic_cleaned.info()"
   ]
  },
  {
   "cell_type": "markdown",
   "metadata": {},
   "source": [
    "- **Adding new columns:**"
   ]
  },
  {
   "cell_type": "code",
   "execution_count": null,
   "metadata": {},
   "outputs": [
    {
     "data": {
      "text/html": [
       "<div>\n",
       "<style scoped>\n",
       "    .dataframe tbody tr th:only-of-type {\n",
       "        vertical-align: middle;\n",
       "    }\n",
       "\n",
       "    .dataframe tbody tr th {\n",
       "        vertical-align: top;\n",
       "    }\n",
       "\n",
       "    .dataframe thead th {\n",
       "        text-align: right;\n",
       "    }\n",
       "</style>\n",
       "<table border=\"1\" class=\"dataframe\">\n",
       "  <thead>\n",
       "    <tr style=\"text-align: right;\">\n",
       "      <th></th>\n",
       "      <th>SibSp</th>\n",
       "      <th>Parch</th>\n",
       "      <th>family_size</th>\n",
       "    </tr>\n",
       "  </thead>\n",
       "  <tbody>\n",
       "    <tr>\n",
       "      <th>0</th>\n",
       "      <td>1</td>\n",
       "      <td>0</td>\n",
       "      <td>2</td>\n",
       "    </tr>\n",
       "    <tr>\n",
       "      <th>1</th>\n",
       "      <td>1</td>\n",
       "      <td>0</td>\n",
       "      <td>2</td>\n",
       "    </tr>\n",
       "    <tr>\n",
       "      <th>2</th>\n",
       "      <td>0</td>\n",
       "      <td>0</td>\n",
       "      <td>1</td>\n",
       "    </tr>\n",
       "    <tr>\n",
       "      <th>3</th>\n",
       "      <td>1</td>\n",
       "      <td>0</td>\n",
       "      <td>2</td>\n",
       "    </tr>\n",
       "    <tr>\n",
       "      <th>4</th>\n",
       "      <td>0</td>\n",
       "      <td>0</td>\n",
       "      <td>1</td>\n",
       "    </tr>\n",
       "  </tbody>\n",
       "</table>\n",
       "</div>"
      ],
      "text/plain": [
       "   SibSp  Parch  family_size\n",
       "0      1      0            2\n",
       "1      1      0            2\n",
       "2      0      0            1\n",
       "3      1      0            2\n",
       "4      0      0            1"
      ]
     },
     "metadata": {},
     "output_type": "display_data"
    }
   ],
   "source": [
    "# Create a new column for family size\n",
    "titanic['family_size'] = titanic['SibSp'] + titanic['Parch'] + 1\n",
    "titanic[['SibSp', 'Parch', 'family_size']].head()"
   ]
  },
  {
   "cell_type": "markdown",
   "metadata": {},
   "source": [
    "---\n",
    "### Grouping and Aggregating Data\n",
    "---\n",
    "\n",
    "Pandas makes it easy to group data and perform aggregate functions like sum, mean, etc.\n"
   ]
  },
  {
   "cell_type": "markdown",
   "metadata": {},
   "source": [
    "- **Group by a column and calculate the mean:**"
   ]
  },
  {
   "cell_type": "code",
   "execution_count": null,
   "metadata": {},
   "outputs": [
    {
     "data": {
      "text/plain": [
       "Pclass\n",
       "1    38.233441\n",
       "2    29.877630\n",
       "3    25.140620\n",
       "Name: Age, dtype: float64"
      ]
     },
     "metadata": {},
     "output_type": "display_data"
    }
   ],
   "source": [
    "# Average age by class\n",
    "titanic.groupby('Pclass')['Age'].mean()"
   ]
  },
  {
   "cell_type": "markdown",
   "metadata": {},
   "source": [
    "- **Apply multiple aggregate functions:**"
   ]
  },
  {
   "cell_type": "code",
   "execution_count": null,
   "metadata": {},
   "outputs": [
    {
     "data": {
      "text/html": [
       "<div>\n",
       "<style scoped>\n",
       "    .dataframe tbody tr th:only-of-type {\n",
       "        vertical-align: middle;\n",
       "    }\n",
       "\n",
       "    .dataframe tbody tr th {\n",
       "        vertical-align: top;\n",
       "    }\n",
       "\n",
       "    .dataframe thead th {\n",
       "        text-align: right;\n",
       "    }\n",
       "</style>\n",
       "<table border=\"1\" class=\"dataframe\">\n",
       "  <thead>\n",
       "    <tr style=\"text-align: right;\">\n",
       "      <th></th>\n",
       "      <th>mean</th>\n",
       "      <th>median</th>\n",
       "      <th>min</th>\n",
       "      <th>max</th>\n",
       "    </tr>\n",
       "    <tr>\n",
       "      <th>Pclass</th>\n",
       "      <th></th>\n",
       "      <th></th>\n",
       "      <th></th>\n",
       "      <th></th>\n",
       "    </tr>\n",
       "  </thead>\n",
       "  <tbody>\n",
       "    <tr>\n",
       "      <th>1</th>\n",
       "      <td>84.154687</td>\n",
       "      <td>60.2875</td>\n",
       "      <td>0.0</td>\n",
       "      <td>512.3292</td>\n",
       "    </tr>\n",
       "    <tr>\n",
       "      <th>2</th>\n",
       "      <td>20.662183</td>\n",
       "      <td>14.2500</td>\n",
       "      <td>0.0</td>\n",
       "      <td>73.5000</td>\n",
       "    </tr>\n",
       "    <tr>\n",
       "      <th>3</th>\n",
       "      <td>13.675550</td>\n",
       "      <td>8.0500</td>\n",
       "      <td>0.0</td>\n",
       "      <td>69.5500</td>\n",
       "    </tr>\n",
       "  </tbody>\n",
       "</table>\n",
       "</div>"
      ],
      "text/plain": [
       "             mean   median  min       max\n",
       "Pclass                                   \n",
       "1       84.154687  60.2875  0.0  512.3292\n",
       "2       20.662183  14.2500  0.0   73.5000\n",
       "3       13.675550   8.0500  0.0   69.5500"
      ]
     },
     "metadata": {},
     "output_type": "display_data"
    }
   ],
   "source": [
    "# Multiple statistics for 'fare' grouped by 'class'\n",
    "titanic.groupby('Pclass')['Fare'].agg(['mean', 'median', 'min', 'max'])"
   ]
  },
  {
   "cell_type": "markdown",
   "metadata": {},
   "source": [
    "---\n",
    "### Data Visualization\n",
    "---\n",
    "\n",
    "Pandas integrates well with libraries like Matplotlib and Seaborn for data visualization."
   ]
  },
  {
   "cell_type": "markdown",
   "metadata": {},
   "source": [
    "- **Plot a histogram of ages:**"
   ]
  },
  {
   "cell_type": "code",
   "execution_count": null,
   "metadata": {},
   "outputs": [
    {
     "data": {
      "image/png": "[encoded data removed]",
      "text/plain": [
       "<Figure size 432x288 with 1 Axes>"
      ]
     },
     "metadata": {},
     "output_type": "display_data"
    }
   ],
   "source": [
    "import matplotlib.pyplot as plt\n",
    "\n",
    "titanic['Age'].hist(bins=20)\n",
    "plt.xlabel('Age')\n",
    "plt.ylabel('Number of Passengers')\n",
    "plt.title('Distribution of Passenger Ages')\n",
    "plt.show()"
   ]
  },
  {
   "cell_type": "markdown",
   "metadata": {},
   "source": [
    "- **Bar plot of survival rates by class:**"
   ]
  },
  {
   "cell_type": "code",
   "execution_count": null,
   "metadata": {},
   "outputs": [
    {
     "data": {
      "image/png": "[encoded data removed]",
      "text/plain": [
       "<Figure size 432x288 with 1 Axes>"
      ]
     },
     "metadata": {},
     "output_type": "display_data"
    }
   ],
   "source": [
    "titanic.groupby('Pclass')['Survived'].mean().plot(kind='bar')\n",
    "plt.xlabel('Class')\n",
    "plt.ylabel('Survival Rate')\n",
    "plt.title('Survival Rate by Class')\n",
    "plt.show()"
   ]
  },
  {
   "cell_type": "markdown",
   "metadata": {},
   "source": [
    "- **Correlation matrix:**"
   ]
  },
  {
   "cell_type": "code",
   "execution_count": null,
   "metadata": {},
   "outputs": [
    {
     "data": {
      "text/html": [
       "<style type=\"text/css\">\n",
       "#T_da482_row0_col0, #T_da482_row1_col1, #T_da482_row2_col2, #T_da482_row3_col3, #T_da482_row4_col4, #T_da482_row5_col5, #T_da482_row6_col6, #T_da482_row7_col7 {\n",
       "  background-color: #ffffff;\n",
       "  color: #000000;\n",
       "}\n",
       "#T_da482_row0_col1 {\n",
       "  background-color: #b00000;\n",
       "  color: #f1f1f1;\n",
       "}\n",
       "#T_da482_row0_col2 {\n",
       "  background-color: #e70000;\n",
       "  color: #f1f1f1;\n",
       "}\n",
       "#T_da482_row0_col3 {\n",
       "  background-color: #cf0000;\n",
       "  color: #f1f1f1;\n",
       "}\n",
       "#T_da482_row0_col4, #T_da482_row3_col1 {\n",
       "  background-color: #8b0000;\n",
       "  color: #f1f1f1;\n",
       "}\n",
       "#T_da482_row0_col5 {\n",
       "  background-color: #740000;\n",
       "  color: #f1f1f1;\n",
       "}\n",
       "#T_da482_row0_col6 {\n",
       "  background-color: #fc0000;\n",
       "  color: #f1f1f1;\n",
       "}\n",
       "#T_da482_row0_col7 {\n",
       "  background-color: #900000;\n",
       "  color: #f1f1f1;\n",
       "}\n",
       "#T_da482_row1_col0, #T_da482_row7_col3 {\n",
       "  background-color: #2a0000;\n",
       "  color: #f1f1f1;\n",
       "}\n",
       "#T_da482_row1_col2 {\n",
       "  background-color: #640000;\n",
       "  color: #f1f1f1;\n",
       "}\n",
       "#T_da482_row1_col3 {\n",
       "  background-color: #980000;\n",
       "  color: #f1f1f1;\n",
       "}\n",
       "#T_da482_row1_col4 {\n",
       "  background-color: #960000;\n",
       "  color: #f1f1f1;\n",
       "}\n",
       "#T_da482_row1_col5 {\n",
       "  background-color: #a30000;\n",
       "  color: #f1f1f1;\n",
       "}\n",
       "#T_da482_row1_col6 {\n",
       "  background-color: #ff6900;\n",
       "  color: #f1f1f1;\n",
       "}\n",
       "#T_da482_row1_col7 {\n",
       "  background-color: #ad0000;\n",
       "  color: #f1f1f1;\n",
       "}\n",
       "#T_da482_row2_col0 {\n",
       "  background-color: #180000;\n",
       "  color: #f1f1f1;\n",
       "}\n",
       "#T_da482_row2_col1, #T_da482_row2_col3, #T_da482_row2_col6, #T_da482_row3_col4, #T_da482_row3_col5, #T_da482_row3_col7, #T_da482_row4_col0, #T_da482_row6_col2 {\n",
       "  background-color: #0b0000;\n",
       "  color: #f1f1f1;\n",
       "}\n",
       "#T_da482_row2_col4 {\n",
       "  background-color: #d20000;\n",
       "  color: #f1f1f1;\n",
       "}\n",
       "#T_da482_row2_col5 {\n",
       "  background-color: #7e0000;\n",
       "  color: #f1f1f1;\n",
       "}\n",
       "#T_da482_row2_col7 {\n",
       "  background-color: #c80000;\n",
       "  color: #f1f1f1;\n",
       "}\n",
       "#T_da482_row3_col0 {\n",
       "  background-color: #440000;\n",
       "  color: #f1f1f1;\n",
       "}\n",
       "#T_da482_row3_col2 {\n",
       "  background-color: #570000;\n",
       "  color: #f1f1f1;\n",
       "}\n",
       "#T_da482_row3_col6 {\n",
       "  background-color: #ff2200;\n",
       "  color: #f1f1f1;\n",
       "}\n",
       "#T_da482_row4_col1 {\n",
       "  background-color: #a00000;\n",
       "  color: #f1f1f1;\n",
       "}\n",
       "#T_da482_row4_col2 {\n",
       "  background-color: #ff1d00;\n",
       "  color: #f1f1f1;\n",
       "}\n",
       "#T_da482_row4_col3 {\n",
       "  background-color: #270000;\n",
       "  color: #f1f1f1;\n",
       "}\n",
       "#T_da482_row4_col5 {\n",
       "  background-color: #ff6100;\n",
       "  color: #f1f1f1;\n",
       "}\n",
       "#T_da482_row4_col6 {\n",
       "  background-color: #ff3f00;\n",
       "  color: #f1f1f1;\n",
       "}\n",
       "#T_da482_row4_col7, #T_da482_row7_col4 {\n",
       "  background-color: #ffffac;\n",
       "  color: #000000;\n",
       "}\n",
       "#T_da482_row5_col0 {\n",
       "  background-color: #2d0000;\n",
       "  color: #f1f1f1;\n",
       "}\n",
       "#T_da482_row5_col1 {\n",
       "  background-color: #dd0000;\n",
       "  color: #f1f1f1;\n",
       "}\n",
       "#T_da482_row5_col2 {\n",
       "  background-color: #ff0000;\n",
       "  color: #f1f1f1;\n",
       "}\n",
       "#T_da482_row5_col3 {\n",
       "  background-color: #610000;\n",
       "  color: #f1f1f1;\n",
       "}\n",
       "#T_da482_row5_col4 {\n",
       "  background-color: #ff7e00;\n",
       "  color: #f1f1f1;\n",
       "}\n",
       "#T_da482_row5_col6, #T_da482_row7_col6 {\n",
       "  background-color: #ff5600;\n",
       "  color: #f1f1f1;\n",
       "}\n",
       "#T_da482_row5_col7 {\n",
       "  background-color: #ffff5a;\n",
       "  color: #000000;\n",
       "}\n",
       "#T_da482_row6_col0 {\n",
       "  background-color: #350000;\n",
       "  color: #f1f1f1;\n",
       "}\n",
       "#T_da482_row6_col1 {\n",
       "  background-color: #ff3400;\n",
       "  color: #f1f1f1;\n",
       "}\n",
       "#T_da482_row6_col3 {\n",
       "  background-color: #ec0000;\n",
       "  color: #f1f1f1;\n",
       "}\n",
       "#T_da482_row6_col4 {\n",
       "  background-color: #f90000;\n",
       "  color: #f1f1f1;\n",
       "}\n",
       "#T_da482_row6_col5 {\n",
       "  background-color: #ef0000;\n",
       "  color: #f1f1f1;\n",
       "}\n",
       "#T_da482_row6_col7 {\n",
       "  background-color: #ff1700;\n",
       "  color: #f1f1f1;\n",
       "}\n",
       "#T_da482_row7_col0 {\n",
       "  background-color: #150000;\n",
       "  color: #f1f1f1;\n",
       "}\n",
       "#T_da482_row7_col1 {\n",
       "  background-color: #ba0000;\n",
       "  color: #f1f1f1;\n",
       "}\n",
       "#T_da482_row7_col2 {\n",
       "  background-color: #ff1500;\n",
       "  color: #f1f1f1;\n",
       "}\n",
       "#T_da482_row7_col5 {\n",
       "  background-color: #ffff4a;\n",
       "  color: #000000;\n",
       "}\n",
       "</style>\n",
       "<table id=\"T_da482_\">\n",
       "  <thead>\n",
       "    <tr>\n",
       "      <th class=\"blank level0\" >&nbsp;</th>\n",
       "      <th class=\"col_heading level0 col0\" >PassengerId</th>\n",
       "      <th class=\"col_heading level0 col1\" >Survived</th>\n",
       "      <th class=\"col_heading level0 col2\" >Pclass</th>\n",
       "      <th class=\"col_heading level0 col3\" >Age</th>\n",
       "      <th class=\"col_heading level0 col4\" >SibSp</th>\n",
       "      <th class=\"col_heading level0 col5\" >Parch</th>\n",
       "      <th class=\"col_heading level0 col6\" >Fare</th>\n",
       "      <th class=\"col_heading level0 col7\" >family_size</th>\n",
       "    </tr>\n",
       "  </thead>\n",
       "  <tbody>\n",
       "    <tr>\n",
       "      <th id=\"T_da482_level0_row0\" class=\"row_heading level0 row0\" >PassengerId</th>\n",
       "      <td id=\"T_da482_row0_col0\" class=\"data row0 col0\" >1.000000</td>\n",
       "      <td id=\"T_da482_row0_col1\" class=\"data row0 col1\" >-0.005007</td>\n",
       "      <td id=\"T_da482_row0_col2\" class=\"data row0 col2\" >-0.035144</td>\n",
       "      <td id=\"T_da482_row0_col3\" class=\"data row0 col3\" >0.036847</td>\n",
       "      <td id=\"T_da482_row0_col4\" class=\"data row0 col4\" >-0.057527</td>\n",
       "      <td id=\"T_da482_row0_col5\" class=\"data row0 col5\" >-0.001652</td>\n",
       "      <td id=\"T_da482_row0_col6\" class=\"data row0 col6\" >0.012658</td>\n",
       "      <td id=\"T_da482_row0_col7\" class=\"data row0 col7\" >-0.040143</td>\n",
       "    </tr>\n",
       "    <tr>\n",
       "      <th id=\"T_da482_level0_row1\" class=\"row_heading level0 row1\" >Survived</th>\n",
       "      <td id=\"T_da482_row1_col0\" class=\"data row1 col0\" >-0.005007</td>\n",
       "      <td id=\"T_da482_row1_col1\" class=\"data row1 col1\" >1.000000</td>\n",
       "      <td id=\"T_da482_row1_col2\" class=\"data row1 col2\" >-0.338481</td>\n",
       "      <td id=\"T_da482_row1_col3\" class=\"data row1 col3\" >-0.077221</td>\n",
       "      <td id=\"T_da482_row1_col4\" class=\"data row1 col4\" >-0.035322</td>\n",
       "      <td id=\"T_da482_row1_col5\" class=\"data row1 col5\" >0.081629</td>\n",
       "      <td id=\"T_da482_row1_col6\" class=\"data row1 col6\" >0.257307</td>\n",
       "      <td id=\"T_da482_row1_col7\" class=\"data row1 col7\" >0.016639</td>\n",
       "    </tr>\n",
       "    <tr>\n",
       "      <th id=\"T_da482_level0_row2\" class=\"row_heading level0 row2\" >Pclass</th>\n",
       "      <td id=\"T_da482_row2_col0\" class=\"data row2 col0\" >-0.035144</td>\n",
       "      <td id=\"T_da482_row2_col1\" class=\"data row2 col1\" >-0.338481</td>\n",
       "      <td id=\"T_da482_row2_col2\" class=\"data row2 col2\" >1.000000</td>\n",
       "      <td id=\"T_da482_row2_col3\" class=\"data row2 col3\" >-0.369226</td>\n",
       "      <td id=\"T_da482_row2_col4\" class=\"data row2 col4\" >0.083081</td>\n",
       "      <td id=\"T_da482_row2_col5\" class=\"data row2 col5\" >0.018443</td>\n",
       "      <td id=\"T_da482_row2_col6\" class=\"data row2 col6\" >-0.549500</td>\n",
       "      <td id=\"T_da482_row2_col7\" class=\"data row2 col7\" >0.065997</td>\n",
       "    </tr>\n",
       "    <tr>\n",
       "      <th id=\"T_da482_level0_row3\" class=\"row_heading level0 row3\" >Age</th>\n",
       "      <td id=\"T_da482_row3_col0\" class=\"data row3 col0\" >0.036847</td>\n",
       "      <td id=\"T_da482_row3_col1\" class=\"data row3 col1\" >-0.077221</td>\n",
       "      <td id=\"T_da482_row3_col2\" class=\"data row3 col2\" >-0.369226</td>\n",
       "      <td id=\"T_da482_row3_col3\" class=\"data row3 col3\" >1.000000</td>\n",
       "      <td id=\"T_da482_row3_col4\" class=\"data row3 col4\" >-0.308247</td>\n",
       "      <td id=\"T_da482_row3_col5\" class=\"data row3 col5\" >-0.189119</td>\n",
       "      <td id=\"T_da482_row3_col6\" class=\"data row3 col6\" >0.096067</td>\n",
       "      <td id=\"T_da482_row3_col7\" class=\"data row3 col7\" >-0.301914</td>\n",
       "    </tr>\n",
       "    <tr>\n",
       "      <th id=\"T_da482_level0_row4\" class=\"row_heading level0 row4\" >SibSp</th>\n",
       "      <td id=\"T_da482_row4_col0\" class=\"data row4 col0\" >-0.057527</td>\n",
       "      <td id=\"T_da482_row4_col1\" class=\"data row4 col1\" >-0.035322</td>\n",
       "      <td id=\"T_da482_row4_col2\" class=\"data row4 col2\" >0.083081</td>\n",
       "      <td id=\"T_da482_row4_col3\" class=\"data row4 col3\" >-0.308247</td>\n",
       "      <td id=\"T_da482_row4_col4\" class=\"data row4 col4\" >1.000000</td>\n",
       "      <td id=\"T_da482_row4_col5\" class=\"data row4 col5\" >0.414838</td>\n",
       "      <td id=\"T_da482_row4_col6\" class=\"data row4 col6\" >0.159651</td>\n",
       "      <td id=\"T_da482_row4_col7\" class=\"data row4 col7\" >0.890712</td>\n",
       "    </tr>\n",
       "    <tr>\n",
       "      <th id=\"T_da482_level0_row5\" class=\"row_heading level0 row5\" >Parch</th>\n",
       "      <td id=\"T_da482_row5_col0\" class=\"data row5 col0\" >-0.001652</td>\n",
       "      <td id=\"T_da482_row5_col1\" class=\"data row5 col1\" >0.081629</td>\n",
       "      <td id=\"T_da482_row5_col2\" class=\"data row5 col2\" >0.018443</td>\n",
       "      <td id=\"T_da482_row5_col3\" class=\"data row5 col3\" >-0.189119</td>\n",
       "      <td id=\"T_da482_row5_col4\" class=\"data row5 col4\" >0.414838</td>\n",
       "      <td id=\"T_da482_row5_col5\" class=\"data row5 col5\" >1.000000</td>\n",
       "      <td id=\"T_da482_row5_col6\" class=\"data row5 col6\" >0.216225</td>\n",
       "      <td id=\"T_da482_row5_col7\" class=\"data row5 col7\" >0.783111</td>\n",
       "    </tr>\n",
       "    <tr>\n",
       "      <th id=\"T_da482_level0_row6\" class=\"row_heading level0 row6\" >Fare</th>\n",
       "      <td id=\"T_da482_row6_col0\" class=\"data row6 col0\" >0.012658</td>\n",
       "      <td id=\"T_da482_row6_col1\" class=\"data row6 col1\" >0.257307</td>\n",
       "      <td id=\"T_da482_row6_col2\" class=\"data row6 col2\" >-0.549500</td>\n",
       "      <td id=\"T_da482_row6_col3\" class=\"data row6 col3\" >0.096067</td>\n",
       "      <td id=\"T_da482_row6_col4\" class=\"data row6 col4\" >0.159651</td>\n",
       "      <td id=\"T_da482_row6_col5\" class=\"data row6 col5\" >0.216225</td>\n",
       "      <td id=\"T_da482_row6_col6\" class=\"data row6 col6\" >1.000000</td>\n",
       "      <td id=\"T_da482_row6_col7\" class=\"data row6 col7\" >0.217138</td>\n",
       "    </tr>\n",
       "    <tr>\n",
       "      <th id=\"T_da482_level0_row7\" class=\"row_heading level0 row7\" >family_size</th>\n",
       "      <td id=\"T_da482_row7_col0\" class=\"data row7 col0\" >-0.040143</td>\n",
       "      <td id=\"T_da482_row7_col1\" class=\"data row7 col1\" >0.016639</td>\n",
       "      <td id=\"T_da482_row7_col2\" class=\"data row7 col2\" >0.065997</td>\n",
       "      <td id=\"T_da482_row7_col3\" class=\"data row7 col3\" >-0.301914</td>\n",
       "      <td id=\"T_da482_row7_col4\" class=\"data row7 col4\" >0.890712</td>\n",
       "      <td id=\"T_da482_row7_col5\" class=\"data row7 col5\" >0.783111</td>\n",
       "      <td id=\"T_da482_row7_col6\" class=\"data row7 col6\" >0.217138</td>\n",
       "      <td id=\"T_da482_row7_col7\" class=\"data row7 col7\" >1.000000</td>\n",
       "    </tr>\n",
       "  </tbody>\n",
       "</table>\n"
      ],
      "text/plain": [
       "<pandas.io.formats.style.Styler at 0x1eb61e1db48>"
      ]
     },
     "metadata": {},
     "output_type": "display_data"
    }
   ],
   "source": [
    "# Plotting the correlation matrix\n",
    "titanic.corr().style.background_gradient(cmap=\"hot\")"
   ]
  },
  {
   "cell_type": "markdown",
   "metadata": {},
   "source": [
    "---\n",
    "### Saving Your Data\n",
    "---\n",
    "\n",
    "After manipulating your DataFrame, you might want to save it for later use:"
   ]
  },
  {
   "cell_type": "code",
   "execution_count": null,
   "metadata": {},
   "outputs": [],
   "source": [
    "titanic.to_csv('titanic_cleaned.csv', index=False)"
   ]
  },
  {
   "cell_type": "markdown",
   "metadata": {},
   "source": [
    "---\n",
    "### Conclusion\n",
    "---\n",
    "\n",
    "Pandas is a powerful library, and with these basics, you're ready to dive deeper into data analysis and manipulation!"
   ]
  }
 ],
 "metadata": {
  "language_info": {
   "name": "python"
  }
 },
 "nbformat": 4,
 "nbformat_minor": 2
}
